{
 "cells": [
  {
   "cell_type": "code",
   "execution_count": 3,
   "metadata": {},
   "outputs": [],
   "source": [
    "\n",
    "def generate_layout(keycodes, labels, keys_per_row):\n",
    "    # Define the width of each key\n",
    "    key_width = 7\n",
    "\n",
    "    # Define the horizontal and vertical padding between keys\n",
    "    h_padding = 1\n",
    "    v_padding = 1\n",
    "\n",
    "    # Calculate the total width and height of the keyboard\n",
    "    total_width = sum(keys_per_row) * key_width + (len(keys_per_row) - 1) * h_padding\n",
    "    total_height = len(keycodes) * 3\n",
    "\n",
    "    # Create a 2D array to hold the ASCII art for each key\n",
    "    key_art = [['' for _ in row] for row in keycodes]\n",
    "\n",
    "    # Generate the ASCII art for each key and position it correctly\n",
    "    x = 0\n",
    "    y = 0\n",
    "    for row, row_keys in enumerate(keycodes):\n",
    "        x = 0\n",
    "        for col, keycode in enumerate(row_keys):\n",
    "            label = labels[row][col]\n",
    "            width = len(label)\n",
    "            key_art[row][col] = f'┌{\"─\"*(key_width)}┐\\n{\"│\"+label+\" \"*(key_width-width)+\"│\"}\\n└{\"─\"*(key_width)}┘'\n",
    "            x += key_width + h_padding\n",
    "            if col == keys_per_row[row] - 1:\n",
    "                x = 0\n",
    "                y += 1\n",
    "            #else:\n",
    "                #key_art[row][col] += ' '\n",
    "        y += 1\n",
    "\n",
    "    # Print the ASCII art for each key\n",
    "    for row in key_art:\n",
    "        for line in range(3):\n",
    "            for key in row:\n",
    "                print(key.split('\\n')[line], end='')\n",
    "            print()"
   ]
  },
  {
   "cell_type": "markdown",
   "metadata": {},
   "source": [
    "\n",
    "## Keyboard Layout"
   ]
  },
  {
   "cell_type": "code",
   "execution_count": 4,
   "metadata": {},
   "outputs": [],
   "source": [
    "# Define the number of keys per row\n",
    "keys_per_row = [\n",
    "    15, 15, 15, 14, 13, 10\n",
    "]"
   ]
  },
  {
   "cell_type": "markdown",
   "metadata": {},
   "source": [
    "## MAC_BASE Layout"
   ]
  },
  {
   "cell_type": "code",
   "execution_count": 7,
   "metadata": {},
   "outputs": [],
   "source": [
    "# Define the keycodes for the MAC_BASE layout\n",
    "keycodes = [\n",
    "    ['KC_ESC', 'KC_F1', 'KC_F2', 'KC_F3', 'KC_F4', 'KC_F5', 'KC_F6', 'KC_F7', 'KC_F8', 'KC_F9', 'KC_F10', 'KC_F11', 'KC_F12', 'KC_DEL', 'KC_MUTE'],\n",
    "    ['KC_GRAVE', 'TD(TD_ONE_EXCLAMATION)', 'TD(TD_TWO_AT)', 'TD(TD_THREE_HASH)', 'TD(TD_FOUR_DOLLAR)', 'TD(TD_FIVE_PERCENT)', 'TD(TD_SIX_CARET)', 'TD(TD_SEVEN_AMPERSAND)', 'TD(TD_EIGHT_ASTERISK)', 'TD(TD_NINE_OPENPAR)', 'TD(TD_ZERO_CLOSEPAR)', 'TD(TD_MINUS_UNDERSCORE)', 'TD(TD_PLUS_EQUAL)', 'KC_BACKSPACE', 'KC_PGUP'],\n",
    "    ['KC_TAB', 'KC_Q', 'KC_W', 'KC_E', 'KC_R', 'KC_T', 'KC_Y', 'KC_U', 'KC_I', 'KC_O', 'KC_P', 'TD(TD_LBRC_LCBR)', 'TD(TD_RBRC_RCBR)', 'TD(TD_BACKSLASH_PIPE)', 'KC_PGDN'],\n",
    "    ['KC_CAPS', 'KC_A', 'KC_S', 'KC_D', 'KC_F', 'KC_G', 'KC_H', 'KC_J', 'KC_K', 'KC_L', 'TD(TD_SEMICOLON_COLON)', 'TD(TD_QUOTE_DQUOTE)', 'KC_ENT', 'KC_HOME'],\n",
    "    ['SC_LSPO', 'KC_Z', 'KC_X', 'KC_C', 'KC_V', 'KC_B', 'KC_N', 'KC_M', 'TD(TD_COMMA_LT)', 'TD(TD_DOT_GT)', 'TD(TD_SLASH_QM)', 'SC_RSPC', 'KC_UP'],\n",
    "    ['KC_LCTL', 'KC_LOPTN', 'KC_LCMMD', 'LT(MOUSE, KC_SPC)', 'MO(VIM_COMMAND)', 'MO(MAC_FN)', 'MO(VIM_INSERT)', 'KC_LEFT', 'KC_DOWN', 'KC_RGHT']\n",
    "]\n",
    "\n",
    "# Define the labels for each key\n",
    "labels = [\n",
    "    ['Esc', 'F1', 'F2', 'F3', 'F4', 'F5', 'F6', 'F7', 'F8', 'F9', 'F10', 'F11', 'F12', 'Del', 'Mute'],\n",
    "    ['`', '1', '2', '3', '4', '5', '6', '7', '8', '9', '0', '-', '=', 'Bksp', 'PgUp'],\n",
    "    ['Tab', 'Q', 'W', 'E', 'R', 'T', 'Y', 'U', 'I', 'O', 'P', '[', ']', '\\\\', 'PgDn'],\n",
    "    ['Caps', 'A', 'S', 'D', 'F', 'G', 'H', 'J', 'K', 'L', ';', '\\' ', 'Enter', 'Home'],\n",
    "    ['LShift', 'Z', 'X', 'C', 'V', 'B', 'N', 'M', ',', '.', '/', 'RShift', 'Up'],\n",
    "    ['LCtrl', 'LAlt', 'LGui', 'Space', 'Vim Cmd', 'Fn', 'Vim Ins', 'Left', 'Down', 'Right']\n",
    "]"
   ]
  },
  {
   "cell_type": "code",
   "execution_count": 8,
   "metadata": {},
   "outputs": [
    {
     "name": "stdout",
     "output_type": "stream",
     "text": [
      "┌───────┐┌───────┐┌───────┐┌───────┐┌───────┐┌───────┐┌───────┐┌───────┐┌───────┐┌───────┐┌───────┐┌───────┐┌───────┐┌───────┐┌───────┐\n",
      "│Esc    ││F1     ││F2     ││F3     ││F4     ││F5     ││F6     ││F7     ││F8     ││F9     ││F10    ││F11    ││F12    ││Del    ││Mute   │\n",
      "└───────┘└───────┘└───────┘└───────┘└───────┘└───────┘└───────┘└───────┘└───────┘└───────┘└───────┘└───────┘└───────┘└───────┘└───────┘\n",
      "┌───────┐┌───────┐┌───────┐┌───────┐┌───────┐┌───────┐┌───────┐┌───────┐┌───────┐┌───────┐┌───────┐┌───────┐┌───────┐┌───────┐┌───────┐\n",
      "│`      ││1      ││2      ││3      ││4      ││5      ││6      ││7      ││8      ││9      ││0      ││-      ││=      ││Bksp   ││PgUp   │\n",
      "└───────┘└───────┘└───────┘└───────┘└───────┘└───────┘└───────┘└───────┘└───────┘└───────┘└───────┘└───────┘└───────┘└───────┘└───────┘\n",
      "┌───────┐┌───────┐┌───────┐┌───────┐┌───────┐┌───────┐┌───────┐┌───────┐┌───────┐┌───────┐┌───────┐┌───────┐┌───────┐┌───────┐┌───────┐\n",
      "│Tab    ││Q      ││W      ││E      ││R      ││T      ││Y      ││U      ││I      ││O      ││P      ││[      ││]      ││\\      ││PgDn   │\n",
      "└───────┘└───────┘└───────┘└───────┘└───────┘└───────┘└───────┘└───────┘└───────┘└───────┘└───────┘└───────┘└───────┘└───────┘└───────┘\n",
      "┌───────┐┌───────┐┌───────┐┌───────┐┌───────┐┌───────┐┌───────┐┌───────┐┌───────┐┌───────┐┌───────┐┌───────┐┌───────┐┌───────┐\n",
      "│Caps   ││A      ││S      ││D      ││F      ││G      ││H      ││J      ││K      ││L      ││;      ││'      ││Enter  ││Home   │\n",
      "└───────┘└───────┘└───────┘└───────┘└───────┘└───────┘└───────┘└───────┘└───────┘└───────┘└───────┘└───────┘└───────┘└───────┘\n",
      "┌───────┐┌───────┐┌───────┐┌───────┐┌───────┐┌───────┐┌───────┐┌───────┐┌───────┐┌───────┐┌───────┐┌───────┐┌───────┐\n",
      "│LShift ││Z      ││X      ││C      ││V      ││B      ││N      ││M      ││,      ││.      ││/      ││RShift ││Up     │\n",
      "└───────┘└───────┘└───────┘└───────┘└───────┘└───────┘└───────┘└───────┘└───────┘└───────┘└───────┘└───────┘└───────┘\n",
      "┌───────┐┌───────┐┌───────┐┌───────┐┌───────┐┌───────┐┌───────┐┌───────┐┌───────┐┌───────┐\n",
      "│LCtrl  ││LAlt   ││LGui   ││Space  ││Vim Cmd││Fn     ││Vim Ins││Left   ││Down   ││Right  │\n",
      "└───────┘└───────┘└───────┘└───────┘└───────┘└───────┘└───────┘└───────┘└───────┘└───────┘\n"
     ]
    }
   ],
   "source": [
    "generate_layout(keycodes, labels, keys_per_row)"
   ]
  },
  {
   "cell_type": "markdown",
   "metadata": {},
   "source": [
    "## MAC_FN Layout "
   ]
  },
  {
   "cell_type": "code",
   "execution_count": 74,
   "metadata": {},
   "outputs": [],
   "source": [
    "keycodes = [\n",
    "    ['KC_TRNS', 'KC_BRID', 'KC_BRIU', 'KC_MCTL', 'KC_LPAD', 'RGB_VAD', 'RGB_VAI', 'KC_MPRV', 'KC_MPLY', 'KC_MNXT', 'KC_MUTE', 'KC_VOLD', 'KC_VOLU', 'KC_TRNS', 'RGB_TOG'],\n",
    "    ['KC_TRNS', 'BT_HST1', 'BT_HST2', 'BT_HST3', 'KC_TRNS', 'KC_TRNS', 'KC_TRNS', 'KC_TRNS', 'KC_TRNS', 'KC_TRNS', 'KC_TRNS', 'KC_TRNS', 'KC_TRNS', 'KC_TRNS', 'KC_TRNS'],\n",
    "    ['RGB_TOG', 'RGB_MOD', 'RGB_VAI', 'RGB_HUI', 'RGB_SAI', 'RGB_SPI', 'KC_TRNS', 'KC_TRNS', 'KC_TRNS', 'KC_TRNS', 'KC_TRNS', 'KC_TRNS', 'KC_TRNS', 'KC_TRNS', 'KC_TRNS'],\n",
    "    ['KC_TRNS', 'RGB_RMOD', 'RGB_VAD', 'RGB_HUD', 'RGB_SAD', 'RGB_SPD', 'KC_TRNS', 'KC_TRNS', 'KC_TRNS', 'KC_TRNS', 'DM_PLY2', 'DM_REC2', 'KC_TRNS', 'KC_END'],\n",
    "    ['KC_TRNS', 'KC_TRNS', 'KC_TRNS', 'KC_TRNS', 'KC_TRNS', 'BAT_LVL', 'NK_TOGG', 'KC_TRNS', 'KC_TRNS', 'DM_PLY1', 'DM_REC1', 'DM_RSTP', 'KC_TRNS'],\n",
    "    ['KC_TRNS', 'KC_TRNS', 'KC_TRNS', 'KC_TRNS', 'KC_TRNS', 'KC_TRNS', 'KC_TRNS', 'KC_TRNS', 'KC_TRNS', 'KC_TRNS']\n",
    "]\n",
    "\n",
    "labels = [\n",
    "    [' ', 'Bri-', 'Bri+', 'M Ctrl', 'L Pad', 'RGB -', 'RGB +', 'M Prev', 'M Play', 'M Next', 'Mute', 'Vol -', 'Vol +', ' ', 'RGB T'],\n",
    "    [' ', 'BT H1', 'BT H2', 'BT H3', ' ', ' ', ' ', ' ', ' ', ' ', ' ', ' ', ' ', ' ', ' '],\n",
    "    ['RGB T', 'RGB Md', 'RGB +', 'RGB H+', 'RGB S+', 'RGB Sp', ' ', ' ', ' ', ' ', ' ', ' ', ' ', ' ', ' '],\n",
    "    [' ', 'RGB RM', 'RGB -', 'RGB H-', 'RGB S-', 'RGB Sp', ' ', ' ', ' ', ' ', 'Play 2', 'MediaR', ' ', 'End'],\n",
    "    [' ', ' ', ' ', ' ', ' ', 'BatLvl', 'NumLck', ' ', ' ', 'Play 1', 'MediaR', 'MediaS', ' '],\n",
    "    [' ', ' ', ' ', ' ', ' ', ' ', ' ', ' ', ' ', ' ']\n",
    "]"
   ]
  },
  {
   "cell_type": "code",
   "execution_count": 75,
   "metadata": {},
   "outputs": [
    {
     "name": "stdout",
     "output_type": "stream",
     "text": [
      "┌───────┐┌───────┐┌───────┐┌───────┐┌───────┐┌───────┐┌───────┐┌───────┐┌───────┐┌───────┐┌───────┐┌───────┐┌───────┐┌───────┐┌───────┐\n",
      "│       ││Bri-   ││Bri+   ││M Ctrl ││L Pad  ││RGB -  ││RGB +  ││M Prev ││M Play ││M Next ││Mute   ││Vol -  ││Vol +  ││       ││RGB T  │\n",
      "└───────┘└───────┘└───────┘└───────┘└───────┘└───────┘└───────┘└───────┘└───────┘└───────┘└───────┘└───────┘└───────┘└───────┘└───────┘\n",
      "┌───────┐┌───────┐┌───────┐┌───────┐┌───────┐┌───────┐┌───────┐┌───────┐┌───────┐┌───────┐┌───────┐┌───────┐┌───────┐┌───────┐┌───────┐\n",
      "│       ││BT H1  ││BT H2  ││BT H3  ││       ││       ││       ││       ││       ││       ││       ││       ││       ││       ││       │\n",
      "└───────┘└───────┘└───────┘└───────┘└───────┘└───────┘└───────┘└───────┘└───────┘└───────┘└───────┘└───────┘└───────┘└───────┘└───────┘\n",
      "┌───────┐┌───────┐┌───────┐┌───────┐┌───────┐┌───────┐┌───────┐┌───────┐┌───────┐┌───────┐┌───────┐┌───────┐┌───────┐┌───────┐┌───────┐\n",
      "│RGB T  ││RGB Md ││RGB +  ││RGB H+ ││RGB S+ ││RGB Sp ││       ││       ││       ││       ││       ││       ││       ││       ││       │\n",
      "└───────┘└───────┘└───────┘└───────┘└───────┘└───────┘└───────┘└───────┘└───────┘└───────┘└───────┘└───────┘└───────┘└───────┘└───────┘\n",
      "┌───────┐┌───────┐┌───────┐┌───────┐┌───────┐┌───────┐┌───────┐┌───────┐┌───────┐┌───────┐┌───────┐┌───────┐┌───────┐┌───────┐\n",
      "│       ││RGB RM ││RGB -  ││RGB H- ││RGB S- ││RGB Sp ││       ││       ││       ││       ││Play 2 ││MediaR ││       ││End    │\n",
      "└───────┘└───────┘└───────┘└───────┘└───────┘└───────┘└───────┘└───────┘└───────┘└───────┘└───────┘└───────┘└───────┘└───────┘\n",
      "┌───────┐┌───────┐┌───────┐┌───────┐┌───────┐┌───────┐┌───────┐┌───────┐┌───────┐┌───────┐┌───────┐┌───────┐┌───────┐\n",
      "│       ││       ││       ││       ││       ││BatLvl ││NumLck ││       ││       ││Play 1 ││MediaR ││MediaS ││       │\n",
      "└───────┘└───────┘└───────┘└───────┘└───────┘└───────┘└───────┘└───────┘└───────┘└───────┘└───────┘└───────┘└───────┘\n",
      "┌───────┐┌───────┐┌───────┐┌───────┐┌───────┐┌───────┐┌───────┐┌───────┐┌───────┐┌───────┐\n",
      "│       ││       ││       ││       ││       ││       ││       ││       ││       ││       │\n",
      "└───────┘└───────┘└───────┘└───────┘└───────┘└───────┘└───────┘└───────┘└───────┘└───────┘\n"
     ]
    }
   ],
   "source": [
    "generate_layout(keycodes, labels, keys_per_row)"
   ]
  },
  {
   "cell_type": "markdown",
   "metadata": {},
   "source": [
    "## MOUSE Layout "
   ]
  },
  {
   "cell_type": "code",
   "execution_count": 68,
   "metadata": {},
   "outputs": [],
   "source": [
    "keycodes = [\n",
    "    [\"KC_ESC\", \"XXXXXXX\", \"XXXXXXX\", \"XXXXXXX\", \"XXXXXXX\", \"XXXXXXX\", \"XXXXXXX\", \"XXXXXXX\", \"XXXXXXX\", \"XXXXXXX\", \"XXXXXXX\", \"XXXXXXX\", \"XXXXXXX\", \"XXXXXXX\", \"KC_MUTE\"],\n",
    "    [\"XXXXXXX\", \"XXXXXXX\", \"XXXXXXX\", \"XXXXXXX\", \"XXXXXXX\", \"XXXXXXX\", \"XXXXXXX\", \"XXXXXXX\", \"XXXXXXX\", \"XXXXXXX\", \"XXXXXXX\", \"XXXXXXX\", \"XXXXXXX\", \"XXXXXXX\", \"XXXXXXX\"],\n",
    "    [\"XXXXXXX\", \"XXXXXXX\", \"XXXXXXX\", \"XXXXXXX\", \"XXXXXXX\", \"XXXXXXX\", \"XXXXXXX\", \"KC_MS_BTN1\", \"KC_MS_BTN2\", \"XXXXXXX\", \"XXXXXXX\", \"XXXXXXX\", \"XXXXXXX\", \"XXXXXXX\", \"XXXXXXX\"],\n",
    "    [\"XXXXXXX\", \"XXXXXXX\", \"XXXXXXX\", \"XXXXXXX\", \"XXXXXXX\", \"XXXXXXX\", \"KC_MS_LEFT\", \"KC_MS_DOWN\", \"KC_MS_UP\", \"KC_MS_RIGHT\", \"XXXXXXX\", \"XXXXXXX\", \"XXXXXXX\", \"XXXXXXX\"],\n",
    "    [\"XXXXXXX\", \"XXXXXXX\", \"XXXXXXX\", \"XXXXXXX\", \"XXXXXXX\", \"XXXXXXX\", \"XXXXXXX\", \"XXXXXXX\", \"XXXXXXX\", \"XXXXXXX\", \"XXXXXXX\", \"XXXXXXX\", \"XXXXXXX\"],\n",
    "    [\"XXXXXXX\", \"XXXXXXX\", \"XXXXXXX\", \"XXXXXXX\", \"XXXXXXX\", \"XXXXXXX\", \"XXXXXXX\", \"XXXXXXX\", \"XXXXXXX\", \"XXXXXXX\"]\n",
    "]\n",
    "\n",
    "labels = [\n",
    "    ['Esc', ' ', ' ', ' ', ' ', ' ', ' ', ' ', ' ', ' ', ' ', ' ', ' ', ' ', 'Mute'],\n",
    "    [' ', ' ', ' ', ' ', ' ', ' ', ' ', ' ', ' ', ' ', ' ', ' ', ' ', ' ', ' '],\n",
    "    [' ', ' ', ' ', ' ', ' ', ' ', ' ', 'Btn 1', 'Btn 2', ' ', ' ', ' ', ' ', ' ', ' '],\n",
    "    [' ', ' ', ' ', ' ', ' ', ' ', 'Left', 'Down', 'Up', 'Right', ' ', ' ', ' ', ' ', ' '],\n",
    "    [' ', ' ', ' ', ' ', ' ', ' ', ' ', ' ', ' ', ' ', ' ', ' ', ' ', ' ', ' '],\n",
    "    [' ', ' ', ' ', ' ', ' ', ' ', ' ', ' ', ' ', ' ']\n",
    "]"
   ]
  },
  {
   "cell_type": "code",
   "execution_count": 69,
   "metadata": {},
   "outputs": [
    {
     "name": "stdout",
     "output_type": "stream",
     "text": [
      "┌───────┐┌───────┐┌───────┐┌───────┐┌───────┐┌───────┐┌───────┐┌───────┐┌───────┐┌───────┐┌───────┐┌───────┐┌───────┐┌───────┐┌───────┐\n",
      "│Esc    ││       ││       ││       ││       ││       ││       ││       ││       ││       ││       ││       ││       ││       ││Mute   │\n",
      "└───────┘└───────┘└───────┘└───────┘└───────┘└───────┘└───────┘└───────┘└───────┘└───────┘└───────┘└───────┘└───────┘└───────┘└───────┘\n",
      "┌───────┐┌───────┐┌───────┐┌───────┐┌───────┐┌───────┐┌───────┐┌───────┐┌───────┐┌───────┐┌───────┐┌───────┐┌───────┐┌───────┐┌───────┐\n",
      "│       ││       ││       ││       ││       ││       ││       ││       ││       ││       ││       ││       ││       ││       ││       │\n",
      "└───────┘└───────┘└───────┘└───────┘└───────┘└───────┘└───────┘└───────┘└───────┘└───────┘└───────┘└───────┘└───────┘└───────┘└───────┘\n",
      "┌───────┐┌───────┐┌───────┐┌───────┐┌───────┐┌───────┐┌───────┐┌───────┐┌───────┐┌───────┐┌───────┐┌───────┐┌───────┐┌───────┐┌───────┐\n",
      "│       ││       ││       ││       ││       ││       ││       ││Btn 1  ││Btn 2  ││       ││       ││       ││       ││       ││       │\n",
      "└───────┘└───────┘└───────┘└───────┘└───────┘└───────┘└───────┘└───────┘└───────┘└───────┘└───────┘└───────┘└───────┘└───────┘└───────┘\n",
      "┌───────┐┌───────┐┌───────┐┌───────┐┌───────┐┌───────┐┌───────┐┌───────┐┌───────┐┌───────┐┌───────┐┌───────┐┌───────┐┌───────┐\n",
      "│       ││       ││       ││       ││       ││       ││Left   ││Down   ││Up     ││Right  ││       ││       ││       ││       │\n",
      "└───────┘└───────┘└───────┘└───────┘└───────┘└───────┘└───────┘└───────┘└───────┘└───────┘└───────┘└───────┘└───────┘└───────┘\n",
      "┌───────┐┌───────┐┌───────┐┌───────┐┌───────┐┌───────┐┌───────┐┌───────┐┌───────┐┌───────┐┌───────┐┌───────┐┌───────┐\n",
      "│       ││       ││       ││       ││       ││       ││       ││       ││       ││       ││       ││       ││       │\n",
      "└───────┘└───────┘└───────┘└───────┘└───────┘└───────┘└───────┘└───────┘└───────┘└───────┘└───────┘└───────┘└───────┘\n",
      "┌───────┐┌───────┐┌───────┐┌───────┐┌───────┐┌───────┐┌───────┐┌───────┐┌───────┐┌───────┐\n",
      "│       ││       ││       ││       ││       ││       ││       ││       ││       ││       │\n",
      "└───────┘└───────┘└───────┘└───────┘└───────┘└───────┘└───────┘└───────┘└───────┘└───────┘\n"
     ]
    }
   ],
   "source": [
    "generate_layout(keycodes, labels, keys_per_row)"
   ]
  }
 ],
 "metadata": {
  "kernelspec": {
   "display_name": "Python 3",
   "language": "python",
   "name": "python3"
  },
  "language_info": {
   "codemirror_mode": {
    "name": "ipython",
    "version": 3
   },
   "file_extension": ".py",
   "mimetype": "text/x-python",
   "name": "python",
   "nbconvert_exporter": "python",
   "pygments_lexer": "ipython3",
   "version": "3.11.5"
  },
  "orig_nbformat": 4
 },
 "nbformat": 4,
 "nbformat_minor": 2
}
